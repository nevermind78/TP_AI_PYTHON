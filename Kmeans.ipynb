{
 "cells": [
  {
   "cell_type": "markdown",
   "metadata": {},
   "source": [
    "# Kmeans "
   ]
  },
  {
   "cell_type": "code",
   "execution_count": 1,
   "metadata": {},
   "outputs": [],
   "source": [
    "import numpy as np"
   ]
  },
  {
   "cell_type": "code",
   "execution_count": 39,
   "metadata": {},
   "outputs": [],
   "source": [
    "def posmin(L):\n",
    "    min,pos=L[0],0\n",
    "    for i in range(len(L)):\n",
    "        if L[i]<=min:\n",
    "            min=L[i]\n",
    "            pos=i\n",
    "    return pos"
   ]
  },
  {
   "cell_type": "code",
   "execution_count": 40,
   "metadata": {},
   "outputs": [],
   "source": [
    "def update_cluster(cluster):\n",
    "    return (sum([x[0] for x in cluster])/len(cluster),sum([x[1] for x in cluster])/len(cluster))"
   ]
  },
  {
   "cell_type": "code",
   "execution_count": 36,
   "metadata": {},
   "outputs": [],
   "source": [
    "def Kmean(data,cluster):\n",
    "    # distance au carré\n",
    "    d=lambda X,Y:(X[0]-Y[0])**2+(X[1]-Y[1])**2\n",
    "    # dictionnaire des distances au carrés\n",
    "    dic={i:[d(data[j],cluster[i]) for j in range(len(data))]for i in range(len(cluster))}\n",
    "    # dictionnaires des clusters pour chaque centre\n",
    "    List=[[dic[i][j] for i in range(len(cluster))]for j in range(len(data))]\n",
    "    new=[posmin(u) for u in List]\n",
    "    new_dict={i:[data[k] for k in range(len(data)) if new[k]==i] for i in range(len(cluster))}\n",
    "    #mise à jour des centres\n",
    "    new_center=[update_cluster(new_dict[i]) for i in range(len(cluster))]\n",
    "    # dictionnaires des inérties de chaque centre\n",
    "    dic_in={i:np.array([d(new_dict[i][j],new_center[i]) for j in range(len(new_dict[i]))]).mean() for i in range(len(cluster))}\n",
    "    #inertie globale\n",
    "    ini_glob=sum([dic_in[i] for i in range(len(cluster))])\n",
    "    return dic,List,new,new_dict,new_center,dic_in,ini_glob"
   ]
  },
  {
   "cell_type": "code",
   "execution_count": 37,
   "metadata": {},
   "outputs": [],
   "source": [
    "data=[(1,1),(2,1),(3,3),(2,3),(1,2),(4,2)]\n",
    "cluster=[(1,1),(2,1)]\n"
   ]
  },
  {
   "cell_type": "code",
   "execution_count": 38,
   "metadata": {},
   "outputs": [
    {
     "data": {
      "text/plain": [
       "({0: [0, 1, 8, 5, 1, 10], 1: [1, 0, 5, 4, 2, 5]},\n",
       " [[0, 1], [1, 0], [8, 5], [5, 4], [1, 2], [10, 5]],\n",
       " [0, 1, 1, 1, 0, 1],\n",
       " {0: [(1, 1), (1, 2)], 1: [(2, 1), (3, 3), (2, 3), (4, 2)]},\n",
       " [(1.0, 1.5), (2.75, 2.25)],\n",
       " {0: 0.25, 1: 1.375},\n",
       " 1.625)"
      ]
     },
     "execution_count": 38,
     "metadata": {},
     "output_type": "execute_result"
    }
   ],
   "source": [
    "Kmean(data,cluster)"
   ]
  },
  {
   "cell_type": "code",
   "execution_count": 68,
   "metadata": {},
   "outputs": [],
   "source": [
    "def KM(data,cluster):\n",
    "    inertie=0\n",
    "    it=1\n",
    "    dic,List,new,new_dict,new_center,dic_in,ini_glob=Kmean(data,cluster)\n",
    "    print('-'*90)\n",
    "    print(' Itération 1')\n",
    "    print(f'les clusters sont{new_dict}')\n",
    "    print(f'les centres actualisé : {new_center}')\n",
    "    print(f\"l'inertie globale : {ini_glob}\")\n",
    "    print('-'*90)\n",
    "    while ini_glob!=inertie:\n",
    "        dic,List,new,new_dict,new_center,dic_in,ini_glob=Kmean(data,new_center)\n",
    "        inertie=ini_glob\n",
    "        it=it+1\n",
    "        print(f' Itération {it}')\n",
    "        print(f'les clusters sont{new_dict}')\n",
    "        print(f'les centres actualisé : {new_center}')\n",
    "        print(f\"l'inertie globale : {ini_glob}\")\n",
    "        print('-'*90)\n",
    "    else:\n",
    "        it=it+1\n",
    "        print(f' Itération {it}')\n",
    "        print(f'les clusters sont{new_dict}')\n",
    "        print(f'les centres actualisé : {new_center}')\n",
    "        print(f\"l'inertie globale : {ini_glob}\")\n",
    "        print('-'*90)"
   ]
  },
  {
   "cell_type": "code",
   "execution_count": 69,
   "metadata": {},
   "outputs": [
    {
     "name": "stdout",
     "output_type": "stream",
     "text": [
      "------------------------------------------------------------------------------------------\n",
      " Itération 1\n",
      "les clusters sont{0: [(1, 1), (1, 2)], 1: [(2, 1), (3, 3), (2, 3), (4, 2)]}\n",
      "les centres actualisé : [(1.0, 1.5), (2.75, 2.25)]\n",
      "l'inertie globale : 1.625\n",
      "------------------------------------------------------------------------------------------\n",
      " Itération 2\n",
      "les clusters sont{0: [(1, 1), (2, 1), (1, 2)], 1: [(3, 3), (2, 3), (4, 2)]}\n",
      "les centres actualisé : [(1.3333333333333333, 1.3333333333333333), (3.0, 2.6666666666666665)]\n",
      "l'inertie globale : 1.3333333333333333\n",
      "------------------------------------------------------------------------------------------\n",
      " Itération 3\n",
      "les clusters sont{0: [(1, 1), (2, 1), (1, 2)], 1: [(3, 3), (2, 3), (4, 2)]}\n",
      "les centres actualisé : [(1.3333333333333333, 1.3333333333333333), (3.0, 2.6666666666666665)]\n",
      "l'inertie globale : 1.3333333333333333\n",
      "------------------------------------------------------------------------------------------\n"
     ]
    }
   ],
   "source": [
    "KM(data,cluster)"
   ]
  },
  {
   "cell_type": "code",
   "execution_count": 74,
   "metadata": {},
   "outputs": [],
   "source": [
    "data=[(1,3),(3,3),(4,3),(5,3),(1,2),(4,2),(1,1),(2,1)]\n",
    "cluster=[(1,1),(2,1),(4,2)]"
   ]
  },
  {
   "cell_type": "code",
   "execution_count": 76,
   "metadata": {
    "scrolled": false
   },
   "outputs": [
    {
     "name": "stdout",
     "output_type": "stream",
     "text": [
      "------------------------------------------------------------------------------------------\n",
      " Itération 1\n",
      "les clusters sont{0: [(1, 3), (1, 2), (1, 1)], 1: [(2, 1)], 2: [(3, 3), (4, 3), (5, 3), (4, 2)]}\n",
      "les centres actualisé : [(1.0, 2.0), (2.0, 1.0), (4.0, 2.75)]\n",
      "l'inertie globale : 1.3541666666666665\n",
      "------------------------------------------------------------------------------------------\n",
      " Itération 2\n",
      "les clusters sont{0: [(1, 3), (1, 2)], 1: [(1, 1), (2, 1)], 2: [(3, 3), (4, 3), (5, 3), (4, 2)]}\n",
      "les centres actualisé : [(1.0, 2.5), (1.5, 1.0), (4.0, 2.75)]\n",
      "l'inertie globale : 1.1875\n",
      "------------------------------------------------------------------------------------------\n",
      " Itération 3\n",
      "les clusters sont{0: [(1, 3), (1, 2)], 1: [(1, 1), (2, 1)], 2: [(3, 3), (4, 3), (5, 3), (4, 2)]}\n",
      "les centres actualisé : [(1.0, 2.5), (1.5, 1.0), (4.0, 2.75)]\n",
      "l'inertie globale : 1.1875\n",
      "------------------------------------------------------------------------------------------\n"
     ]
    }
   ],
   "source": [
    "KM(data,cluster)"
   ]
  },
  {
   "cell_type": "code",
   "execution_count": null,
   "metadata": {},
   "outputs": [],
   "source": []
  }
 ],
 "metadata": {
  "kernelspec": {
   "display_name": "Python 3",
   "language": "python",
   "name": "python3"
  },
  "language_info": {
   "codemirror_mode": {
    "name": "ipython",
    "version": 3
   },
   "file_extension": ".py",
   "mimetype": "text/x-python",
   "name": "python",
   "nbconvert_exporter": "python",
   "pygments_lexer": "ipython3",
   "version": "3.9.13"
  },
  "vscode": {
   "interpreter": {
    "hash": "dd2f083c7091592f6e910b42e81e3d9326587f6134c1427a9ed8e8691fd16a23"
   }
  }
 },
 "nbformat": 4,
 "nbformat_minor": 2
}
