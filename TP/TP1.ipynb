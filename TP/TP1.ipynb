{
 "cells": [
  {
   "attachments": {},
   "cell_type": "markdown",
   "metadata": {},
   "source": [
    "<img src=\"../img/Logo_EPI_Sousse.png\" width=\"400\" height=\"200\">\n",
    "\n",
    "# The water jug problem:\n",
    "Suppose you are given 1 jug (3L) and 1 jug (4L). You also have a tap\n",
    "With which you can fill the jugs.\n",
    "<img src=\"../img/jug.png\" width=\"800\" height=\"400\">\n",
    "\n",
    "> **Goal: Get exactly 2L in the 4L jug**.\n",
    "\n",
    "\n"
   ]
  },
  {
   "attachments": {},
   "cell_type": "markdown",
   "metadata": {},
   "source": [
    "* From `AI` admirers to `AI programmers`.\n",
    "  * Step 1: Represent the problem so that it is computer­\n",
    "friendly.\n",
    "  * Step 2: Code the problem in programming language.\n",
    "  * Step 3: Develop/code an algorithm to find a solution.\n",
    "  * Step 4: Represent the solution so that it is human­ friendly.\n",
    "\n",
    "Strategy and solution: solution must be a sequence of actions that leads from the\n",
    "initial state to a goal state\n",
    " \n",
    "* Search Problems\n",
    "  * initial state\n",
    "  * actions\n",
    "  * transition model\n",
    "  * goal test\n",
    "  * path cost function"
   ]
  },
  {
   "attachments": {},
   "cell_type": "markdown",
   "metadata": {},
   "source": [
    "#  Step 1: Representing the problem for a machine.\n",
    "## Hints \n",
    "We represent the amount of water in the\n",
    "jugs with $(X,Y)$\n",
    "\n",
    ">1. $(X,Y:X<4) ­> (4,Y)$ Fill the $4$ liter jug.\n",
    ">2. $(X,Y:Y<3) ­> (X,3)$ Fill the $3$ liter jug.\n",
    " >3. $(X,Y:X>0) ­> (0,Y)$ Empty the $4$ liter jug.\n",
    " >4. $(X,Y:Y>0) ­> (X,0)$ Empty the $3$ liter jug.\n",
    " >5. $(X,Y) \\,\\text{if }\\, X+Y \\geq 4 \\,\\text{and }\\, Y > 0 ­> (4,Y-­(4-­X))$ Fill the $4$ liter jug with >water from  the $3$ liter jug.\n",
    " >6. $(X,Y) \\,\\text{if }\\, X+Y \\geq 3 \\,\\text{and }\\, X > 0 ­> (X-(3-Y),3)$ Fill the $3$ liter jug with >water from the $4$ liter jug.\n",
    " >7. $(X,Y) \\,\\text{if }\\, X+Y \\leq 4 \\,\\text{and }\\, Y > 0 ­> (X+Y,0)$ Pour all water from the $3$ liter >jug to the $4$ liter jug.\n",
    " >8. $(X,Y) \\,\\text{if }\\, X+Y \\leq 3 \\,\\text{and }\\, X > 0 ­> (0,X+Y)$ Pour all water from the $3$ liter >jug to the $4$ liter jug.\n",
    " >9. $(X,Y:X>0) ­> (X-D,Y)$. \n",
    " >10.  $(X,Y:Y>0) ­> (X,Y-D)$."
   ]
  },
  {
   "attachments": {},
   "cell_type": "markdown",
   "metadata": {},
   "source": [
    "# Big Picture\n",
    "<img src=\"../img/big_picture.png\" width=\"800\" height=\"600\">\n"
   ]
  },
  {
   "attachments": {},
   "cell_type": "markdown",
   "metadata": {},
   "source": [
    "# Bad Implementation "
   ]
  },
  {
   "attachments": {},
   "cell_type": "markdown",
   "metadata": {},
   "source": [
    "```python \n",
    "# Each state is a tuple (x,y) of water\n",
    "def nextStates(current_state):\n",
    "    x,y = current_state\n",
    "    states = [(4, y),(x, 3),(0, y),(x, 0)]\n",
    "    if x+y >= 4:\n",
    "        # Fill 4 liter jug from the 3 liter one\n",
    "        states = states + [(4,y-(4-x))]\n",
    "    else:\n",
    "        # Pour everything from the 3 liter to the 4 liter one\n",
    "        states = states + [(x+y,0)]\n",
    "    if x+y >= 3:\n",
    "    # Fill the 3 liter jug from the four liter one\n",
    "        states = states + [(x-(3-y),3)]\n",
    "    else:\n",
    "        # Pour everything from the 4 litre to the 3 litre jug\n",
    "        states = states + [(0,x+y)]\n",
    "    # Remove duplicate states\n",
    "    return list(set(states))\n",
    "```"
   ]
  },
  {
   "attachments": {},
   "cell_type": "markdown",
   "metadata": {},
   "source": [
    "Try the implementation above and find the pros and cons of this function"
   ]
  },
  {
   "cell_type": "code",
   "execution_count": null,
   "metadata": {},
   "outputs": [],
   "source": [
    "# Each state is a tuple (x,y) of water\n",
    "def nextStates(current_state):\n",
    "    x,y = current_state\n",
    "    states = [(4, y),(x, 3),(0, y),(x, 0)]\n",
    "    if x+y >= 4:\n",
    "        # Fill 4 liter jug from the 3 liter one\n",
    "        states = states + [(4,y-(4-x))]\n",
    "    else:\n",
    "        # Pour everything from the 3 liter to the 4 liter one\n",
    "        states = states + [(x+y,0)]\n",
    "    if x+y >= 3:\n",
    "    # Fill the 3 liter jug from the four liter one\n",
    "        states = states + [(x-(3-y),3)]\n",
    "    else:\n",
    "        # Pour everything from the 4 litre to the 3 litre jug\n",
    "        states = states + [(0,x+y)]\n",
    "    # Remove duplicate states\n",
    "    return list(set(states))"
   ]
  },
  {
   "cell_type": "code",
   "execution_count": null,
   "metadata": {},
   "outputs": [],
   "source": [
    "nextStates( (2,2) )"
   ]
  },
  {
   "cell_type": "code",
   "execution_count": null,
   "metadata": {},
   "outputs": [],
   "source": [
    "# Silly solution\n",
    "import random\n",
    "def silly( state , goal ):\n",
    "    visited_states = [ (state) ]\n",
    "    while state != goal:\n",
    "        choices = nextStates(state)\n",
    "        next = choices[random.randrange(0,len(choices))]\n",
    "        state = next\n",
    "        visited_states += [state]\n",
    "    return visited_states\n"
   ]
  },
  {
   "cell_type": "code",
   "execution_count": null,
   "metadata": {},
   "outputs": [],
   "source": [
    "sol=silly( (0,0), (2,0) )\n",
    "len(sol)\n"
   ]
  },
  {
   "cell_type": "code",
   "execution_count": null,
   "metadata": {},
   "outputs": [],
   "source": [
    "for u in silly((0,0), (2,0)):\n",
    "    print(u)"
   ]
  },
  {
   "cell_type": "code",
   "execution_count": null,
   "metadata": {},
   "outputs": [],
   "source": [
    "# what goes wrong ??"
   ]
  },
  {
   "attachments": {},
   "cell_type": "markdown",
   "metadata": {},
   "source": [
    "# Depth First Search\n",
    "How to improve the last code ?\n",
    "> give a recursive solution \n",
    "\n"
   ]
  },
  {
   "cell_type": "code",
   "execution_count": null,
   "metadata": {},
   "outputs": [],
   "source": [
    "def recursiveDF(state, goal, previous):\n",
    "    #complete this code\n",
    "    if state ==goal :\n",
    "        return previous\n",
    "    for choice in nextStates(state):\n",
    "        if choice in previous:\n",
    "            continue\n",
    "        else:\n",
    "            solution=recursiveDF(choice,goal,previous+[choice])\n",
    "            if solution !=[]:\n",
    "                return solution\n",
    "    return []"
   ]
  },
  {
   "cell_type": "code",
   "execution_count": null,
   "metadata": {},
   "outputs": [],
   "source": [
    "L=[1,2,3,4,6]\n",
    "ch='azertyui'\n",
    "ch[::-1]\n",
    "L[::-1]"
   ]
  },
  {
   "cell_type": "code",
   "execution_count": null,
   "metadata": {},
   "outputs": [],
   "source": [
    "recursiveDF((0,0),(0,2),[(0,0)])"
   ]
  },
  {
   "attachments": {},
   "cell_type": "markdown",
   "metadata": {},
   "source": [
    "# Iterative implementation of depth first"
   ]
  },
  {
   "cell_type": "code",
   "execution_count": null,
   "metadata": {},
   "outputs": [],
   "source": [
    "def recursiveBF(state, goal, previous):\n",
    "    #complete this code\n",
    "    if state ==goal :\n",
    "        return previous\n",
    "    for choice in nextStates(state)[::-1]:\n",
    "        if choice in previous:\n",
    "            continue\n",
    "        else:\n",
    "            solution=recursiveBF(choice,goal,previous+[choice])\n",
    "            if solution !=[]:\n",
    "                return solution\n",
    "    return []"
   ]
  },
  {
   "cell_type": "code",
   "execution_count": null,
   "metadata": {},
   "outputs": [],
   "source": [
    "recursiveBF((0,0),(2,0),[(0,0)])"
   ]
  },
  {
   "cell_type": "code",
   "execution_count": null,
   "metadata": {},
   "outputs": [],
   "source": [
    "[1,2,3][::-1]"
   ]
  },
  {
   "attachments": {},
   "cell_type": "markdown",
   "metadata": {},
   "source": [
    "# Iterative implementation of breadth first"
   ]
  },
  {
   "cell_type": "code",
   "execution_count": null,
   "metadata": {},
   "outputs": [],
   "source": [
    "def dfSearch(start,goal):\n",
    "    l=[[start]]\n",
    "    while l!=[]:\n",
    "        path=l[0]\n",
    "        l=l[1:]\n",
    "        if path[-1]==goal:\n",
    "            return path\n",
    "        choices=nextStates(path[-1])\n",
    "        for c in choices:\n",
    "            if c not in path:\n",
    "                l=[path+[c]]+l\n",
    "\n",
    "    return []\n"
   ]
  },
  {
   "cell_type": "code",
   "execution_count": null,
   "metadata": {},
   "outputs": [],
   "source": [
    "dfSearch((0,0),(2,0))"
   ]
  },
  {
   "attachments": {},
   "cell_type": "markdown",
   "metadata": {},
   "source": [
    "# Comparaison ?"
   ]
  },
  {
   "cell_type": "markdown",
   "metadata": {},
   "source": []
  },
  {
   "attachments": {},
   "cell_type": "markdown",
   "metadata": {},
   "source": [
    "# Iterative deepening"
   ]
  },
  {
   "cell_type": "code",
   "execution_count": null,
   "metadata": {},
   "outputs": [],
   "source": [
    "def idaSearch( start, goal ):\n",
    "    M = 0 ; l=[]\n",
    "    while 1:\n",
    "        if l == []:\n",
    "            M = M+1 ; l = [[start]]\n",
    "        path = l.pop()\n",
    "        if path[-1] == goal:\n",
    "            return path\n",
    "        if len(path) > M:\n",
    "            continue\n",
    "        choices = nextStates( path[-1] )\n",
    "        for c in choices:\n",
    "            if c not in path:\n",
    "                l = [path+[c]] + l\n",
    "    return []"
   ]
  },
  {
   "cell_type": "code",
   "execution_count": null,
   "metadata": {},
   "outputs": [],
   "source": [
    "idaSearch( (0,0), (2,0) )"
   ]
  },
  {
   "attachments": {},
   "cell_type": "markdown",
   "metadata": {},
   "source": [
    "# Conclusion"
   ]
  }
 ],
 "metadata": {
  "kernelspec": {
   "display_name": "base",
   "language": "python",
   "name": "python3"
  },
  "language_info": {
   "codemirror_mode": {
    "name": "ipython",
    "version": 3
   },
   "file_extension": ".py",
   "mimetype": "text/x-python",
   "name": "python",
   "nbconvert_exporter": "python",
   "pygments_lexer": "ipython3",
   "version": "3.9.13"
  },
  "orig_nbformat": 4,
  "vscode": {
   "interpreter": {
    "hash": "dd2f083c7091592f6e910b42e81e3d9326587f6134c1427a9ed8e8691fd16a23"
   }
  }
 },
 "nbformat": 4,
 "nbformat_minor": 2
}
